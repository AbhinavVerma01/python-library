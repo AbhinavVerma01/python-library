{
 "cells": [
  {
   "cell_type": "code",
   "execution_count": 1,
   "metadata": {},
   "outputs": [],
   "source": [
    "import numpy as np\n"
   ]
  },
  {
   "cell_type": "markdown",
   "metadata": {},
   "source": [
    "Functions"
   ]
  },
  {
   "cell_type": "code",
   "execution_count": 3,
   "metadata": {},
   "outputs": [
    {
     "name": "stdout",
     "output_type": "stream",
     "text": [
      "[1 2 3 4 5]\n",
      "[[0 0]\n",
      " [0 0]\n",
      " [0 0]]\n",
      "[[1 1 1 1]\n",
      " [1 1 1 1]\n",
      " [1 1 1 1]]\n",
      "[[0 1 2]\n",
      " [3 4 5]]\n"
     ]
    }
   ],
   "source": [
    "print(np.arange(1,6,))\n",
    "print(np.zeros((3, 2),dtype=int))\n",
    "print(np.ones((3,4),dtype=int))\n",
    "print(np.arange(6).reshape(2,3))"
   ]
  },
  {
   "cell_type": "code",
   "execution_count": 4,
   "metadata": {},
   "outputs": [
    {
     "name": "stdout",
     "output_type": "stream",
     "text": [
      "[[3 7]\n",
      " [3 7]\n",
      " [3 7]\n",
      " [3 7]\n",
      " [3 7]]\n"
     ]
    }
   ],
   "source": [
    "arr=np.repeat([[3,7]],5,axis=0) \n",
    "print(arr)"
   ]
  },
  {
   "cell_type": "code",
   "execution_count": 5,
   "metadata": {},
   "outputs": [
    {
     "name": "stdout",
     "output_type": "stream",
     "text": [
      "[1 2 3 4 5 6 7 8]\n"
     ]
    }
   ],
   "source": [
    "arr=np.array([1,2,3,4])\n",
    "arr1=np.array([5,6,7,8])\n",
    "c=np.concatenate([arr,arr1])\n",
    "print(c)"
   ]
  },
  {
   "cell_type": "markdown",
   "metadata": {},
   "source": [
    "Opration"
   ]
  },
  {
   "cell_type": "code",
   "execution_count": 6,
   "metadata": {},
   "outputs": [
    {
     "name": "stdout",
     "output_type": "stream",
     "text": [
      "int64\n",
      "(2, 4)\n",
      "8\n",
      "2\n",
      "[[[[[10 20 30 40]]]]]\n",
      "5\n"
     ]
    }
   ],
   "source": [
    "arr=np.array([[10,20,30,40],[50,60,70,80]])                          \n",
    "print(arr.dtype)#datatype\n",
    "print(np.shape(arr))#find row and column\n",
    "print(np.size(arr))#size\n",
    "print(np.ndim(arr))#find dimansional                  \n",
    "\n",
    "\n",
    "import numpy as np\n",
    "arr1=np.array([10,20,30,40] ,ndmin=5) \n",
    "print(arr1)\n",
    "print(arr1.ndim) "
   ]
  },
  {
   "cell_type": "markdown",
   "metadata": {},
   "source": [
    "Indexing\n"
   ]
  },
  {
   "cell_type": "code",
   "execution_count": 7,
   "metadata": {},
   "outputs": [
    {
     "name": "stdout",
     "output_type": "stream",
     "text": [
      "[1 2 3 4]\n",
      "[1 3 5]\n",
      "[1 2 3 4 5]\n"
     ]
    }
   ],
   "source": [
    "arr=np.array([1,2,3,4,5,6])\n",
    "print(arr[0:4])\n",
    "print(arr[0:6:2])\n",
    "print(arr[:-1])"
   ]
  },
  {
   "cell_type": "code",
   "execution_count": 8,
   "metadata": {},
   "outputs": [
    {
     "name": "stdout",
     "output_type": "stream",
     "text": [
      "4\n",
      "3\n"
     ]
    }
   ],
   "source": [
    "arr=np.array([[[2,3],[4,5]],[[2,8],[3,6]]])\n",
    "print(arr[0,1,0])\n",
    "print(arr[1,-1,0])\n",
    "      "
   ]
  },
  {
   "cell_type": "markdown",
   "metadata": {},
   "source": [
    "more function\n"
   ]
  },
  {
   "cell_type": "code",
   "execution_count": 9,
   "metadata": {},
   "outputs": [
    {
     "name": "stdout",
     "output_type": "stream",
     "text": [
      "[  1   4  81 125]\n"
     ]
    }
   ],
   "source": [
    "import numpy as np\n",
    "arr=np.array([1,2,3,5]) \n",
    "pow=np.power(arr,[1,2,4,3])\n",
    "print(pow)"
   ]
  },
  {
   "cell_type": "code",
   "execution_count": 10,
   "metadata": {},
   "outputs": [
    {
     "name": "stdout",
     "output_type": "stream",
     "text": [
      "[[4 4 4 4]]\n"
     ]
    }
   ],
   "source": [
    "arr=np.array([1,2,3,4])\n",
    "arr1=np.array([5,6,7,8])\n",
    "# d=np.diff(arr)\n",
    "d=np.diff((arr,arr1),axis=0)\n",
    "print(d)"
   ]
  },
  {
   "cell_type": "code",
   "execution_count": 11,
   "metadata": {},
   "outputs": [
    {
     "name": "stdout",
     "output_type": "stream",
     "text": [
      "-24\n"
     ]
    },
    {
     "name": "stderr",
     "output_type": "stream",
     "text": [
      "C:\\Users\\Dell\\AppData\\Local\\Temp\\ipykernel_13412\\923981186.py:3: DeprecationWarning: Arrays of 2-dimensional vectors are deprecated. Use arrays of 3-dimensional vectors instead. (deprecated in NumPy 2.0)\n",
      "  c=np.cross(arr,arr1)\n"
     ]
    }
   ],
   "source": [
    "arr=np.array([1,6])\n",
    "arr1=np.array([5,6])\n",
    "c=np.cross(arr,arr1)\n",
    "print(c)"
   ]
  },
  {
   "cell_type": "code",
   "execution_count": 12,
   "metadata": {},
   "outputs": [
    {
     "name": "stdout",
     "output_type": "stream",
     "text": [
      "[[2 4 6 8]\n",
      " [1 2 3 5]]\n"
     ]
    }
   ],
   "source": [
    "n1=[2,4,6,8]\n",
    "n2=[1,2,3,5]\n",
    "n=np.array([n1,n2])\n",
    "print(n)"
   ]
  },
  {
   "cell_type": "code",
   "execution_count": 13,
   "metadata": {},
   "outputs": [
    {
     "name": "stdout",
     "output_type": "stream",
     "text": [
      "[2 4 6 8 1 2 3 5]\n"
     ]
    }
   ],
   "source": [
    "n1=[2,4,6,8]\n",
    "n2=[1,2,3,5]\n",
    "n=np.array([n1,n2])\n",
    "print(n.flatten(\"C\"))"
   ]
  },
  {
   "cell_type": "code",
   "execution_count": 14,
   "metadata": {},
   "outputs": [
    {
     "name": "stdout",
     "output_type": "stream",
     "text": [
      "[ 3  6  9 13]\n"
     ]
    }
   ],
   "source": [
    "n1=[2,4,6,8]\n",
    "n2=[1,2,3,5]\n",
    "n=np.array([n1,n2])\n",
    "print(n.sum(axis=0))"
   ]
  },
  {
   "cell_type": "code",
   "execution_count": 15,
   "metadata": {},
   "outputs": [
    {
     "name": "stdout",
     "output_type": "stream",
     "text": [
      "[12. 11.]\n"
     ]
    }
   ],
   "source": [
    "n1=[2,4,6,np.nan]\n",
    "n2=[1,2,3,5]\n",
    "n=np.array([n1,n2])\n",
    "print(np.nansum(n,axis=1))"
   ]
  },
  {
   "cell_type": "code",
   "execution_count": 16,
   "metadata": {},
   "outputs": [
    {
     "name": "stdout",
     "output_type": "stream",
     "text": [
      "[ 2  8 15 23 26 31 37 44]\n"
     ]
    }
   ],
   "source": [
    "n1=[2,6,7,8]\n",
    "n2=[3,5,6,7]\n",
    "n=np.array([n1,n2])\n",
    "print(np.cumsum(n))"
   ]
  },
  {
   "cell_type": "code",
   "execution_count": 17,
   "metadata": {},
   "outputs": [
    {
     "name": "stdout",
     "output_type": "stream",
     "text": [
      "[[ 2  6  7  8]\n",
      " [ 6 30 42 56]]\n"
     ]
    }
   ],
   "source": [
    "n1=[2,6,7,8]\n",
    "n2=[3,5,6,7]\n",
    "n=np.array([n1,n2])\n",
    "print(np.cumprod(n,axis=0))"
   ]
  },
  {
   "cell_type": "markdown",
   "metadata": {},
   "source": [
    "Iterating Numpy Array\n"
   ]
  },
  {
   "cell_type": "code",
   "execution_count": 18,
   "metadata": {},
   "outputs": [
    {
     "name": "stdout",
     "output_type": "stream",
     "text": [
      "1\n",
      "2\n",
      "6\n",
      "8\n",
      "9\n",
      "7\n"
     ]
    }
   ],
   "source": [
    "arr=np.array([1,2,6,8,9,7])\n",
    "for x in arr:\n",
    " print(x)\n"
   ]
  },
  {
   "cell_type": "code",
   "execution_count": 19,
   "metadata": {},
   "outputs": [
    {
     "name": "stdout",
     "output_type": "stream",
     "text": [
      "2\n",
      "3\n",
      "4\n",
      "5\n",
      "2\n",
      "8\n",
      "3\n",
      "6\n"
     ]
    }
   ],
   "source": [
    "arr=np.array([[[2,3],[4,5]],[[2,8],[3,6]]])\n",
    "# for i in arr:\n",
    "#     for j in i:\n",
    "#         for k in j:\n",
    "#             print(k)\n",
    "\n",
    "for i in np.nditer(arr):\n",
    "    print(i)"
   ]
  },
  {
   "cell_type": "code",
   "execution_count": 20,
   "metadata": {},
   "outputs": [
    {
     "name": "stdout",
     "output_type": "stream",
     "text": [
      "(0, 0, 0) 1\n",
      "(0, 0, 1) 2\n",
      "(0, 0, 2) 6\n",
      "(0, 0, 3) 8\n",
      "(0, 0, 4) 9\n",
      "(0, 0, 5) 7\n",
      "(0, 1, 0) 2\n",
      "(0, 1, 1) 8\n",
      "(0, 1, 2) 4\n",
      "(0, 1, 3) 9\n",
      "(0, 1, 4) 6\n",
      "(0, 1, 5) 1\n",
      "(1, 0, 0) 1\n",
      "(1, 0, 1) 2\n",
      "(1, 0, 2) 6\n",
      "(1, 0, 3) 8\n",
      "(1, 0, 4) 9\n",
      "(1, 0, 5) 7\n",
      "(1, 1, 0) 2\n",
      "(1, 1, 1) 8\n",
      "(1, 1, 2) 4\n",
      "(1, 1, 3) 9\n",
      "(1, 1, 4) 6\n",
      "(1, 1, 5) 1\n"
     ]
    }
   ],
   "source": [
    "# arr=np.array([1,2,6,8,9,7])\n",
    "arr=np.array([[[1,2,6,8,9,7],[2,8,4,9,6,1]],[[1,2,6,8,9,7],[2,8,4,9,6,1]]])\n",
    "for ind, i in np.ndenumerate(arr):\n",
    "    print(ind,i)"
   ]
  },
  {
   "cell_type": "markdown",
   "metadata": {},
   "source": [
    "Copy vs View\n"
   ]
  },
  {
   "cell_type": "code",
   "execution_count": 21,
   "metadata": {},
   "outputs": [
    {
     "name": "stdout",
     "output_type": "stream",
     "text": [
      "original : [1 3 9 5 6]\n",
      "copy: [1 3 4 5 6]\n"
     ]
    }
   ],
   "source": [
    "arr=np.array([1,3,4,5,6])\n",
    "c=np.copy(arr)\n",
    "arr[2]=9\n",
    "print(\"original :\",arr)\n",
    "print(\"copy:\",c)"
   ]
  },
  {
   "cell_type": "code",
   "execution_count": 22,
   "metadata": {},
   "outputs": [
    {
     "name": "stdout",
     "output_type": "stream",
     "text": [
      "original : [1 3 9 5 6]\n",
      "view: [1 3 9 5 6]\n"
     ]
    }
   ],
   "source": [
    "arr=np.array([1,3,4,5,6])\n",
    "v=arr.view()\n",
    "arr[2]=9\n",
    "print(\"original :\",arr)\n",
    "print(\"view:\",v)"
   ]
  },
  {
   "cell_type": "markdown",
   "metadata": {},
   "source": [
    "Spliting function\n"
   ]
  },
  {
   "cell_type": "code",
   "execution_count": 23,
   "metadata": {},
   "outputs": [
    {
     "name": "stdout",
     "output_type": "stream",
     "text": [
      "[array([1, 3]), array([4]), array([5]), array([6]), array([7]), array([8])]\n"
     ]
    }
   ],
   "source": [
    "arr=np.array([1,3,4,5,6,7,8])\n",
    "sp=np.array_split(arr,6)\n",
    "print(sp)"
   ]
  },
  {
   "cell_type": "code",
   "execution_count": 24,
   "metadata": {},
   "outputs": [
    {
     "name": "stdout",
     "output_type": "stream",
     "text": [
      "[array([[[1, 3, 4]],\n",
      "\n",
      "       [[4, 5, 6]]]), array([[[5, 6, 7]],\n",
      "\n",
      "       [[8, 7, 8]]]), array([], shape=(2, 0, 3), dtype=int64)]\n"
     ]
    }
   ],
   "source": [
    "arr=np.array([[[1,3,4],[5,6,7]],[[4,5,6],[8,7,8]]])\n",
    "sp=np.array_split(arr,3,axis=1)\n",
    "print(sp)"
   ]
  },
  {
   "cell_type": "markdown",
   "metadata": {},
   "source": [
    "Short ,Search and Filter"
   ]
  },
  {
   "cell_type": "code",
   "execution_count": 25,
   "metadata": {},
   "outputs": [
    {
     "name": "stdout",
     "output_type": "stream",
     "text": [
      "[[[1 3 4]\n",
      "  [5 6 7]]\n",
      "\n",
      " [[4 5 6]\n",
      "  [8 7 8]]]\n"
     ]
    }
   ],
   "source": [
    "#arr=np.array([1,3,9,5,21,72,8])\n",
    "arr=np.array([[[1,3,4],[5,6,7]],[[4,5,6],[8,7,8]]])\n",
    "s=np.sort(arr, axis=1)\n",
    "print(s)"
   ]
  },
  {
   "cell_type": "code",
   "execution_count": 26,
   "metadata": {},
   "outputs": [
    {
     "name": "stdout",
     "output_type": "stream",
     "text": [
      "(array([4]),)\n",
      "(array([5, 6]),)\n",
      "(array([2, 4, 6]),)\n"
     ]
    }
   ],
   "source": [
    "arr=np.array([1,3,4,5,6,7,8])\n",
    "sp1=np.where(arr==6)\n",
    "sp2=np.where(arr>6)\n",
    "sp3=np.where(arr%2==0)\n",
    "print(sp1)\n",
    "print(sp2)\n",
    "print(sp3)"
   ]
  },
  {
   "cell_type": "code",
   "execution_count": 27,
   "metadata": {},
   "outputs": [
    {
     "name": "stdout",
     "output_type": "stream",
     "text": [
      "3\n"
     ]
    }
   ],
   "source": [
    "arr=np.array([1,3,4,5,6,7,8])\n",
    "ss=np.searchsorted(arr,5)\n",
    "print(ss)"
   ]
  },
  {
   "cell_type": "code",
   "execution_count": 28,
   "metadata": {},
   "outputs": [
    {
     "name": "stdout",
     "output_type": "stream",
     "text": [
      "[5 7]\n"
     ]
    }
   ],
   "source": [
    "arr=np.array([2,4,5,6,7])\n",
    "#fa=[True,False,True,False]\n",
    "#fa=arr%2==0\n",
    "fa=arr%2!=0\n",
    "new=arr[fa]\n",
    "print(new)"
   ]
  },
  {
   "cell_type": "markdown",
   "metadata": {},
   "source": [
    "Shuffle Unique Resize and Ravel"
   ]
  },
  {
   "cell_type": "code",
   "execution_count": 29,
   "metadata": {},
   "outputs": [
    {
     "name": "stdout",
     "output_type": "stream",
     "text": [
      "[1 3 4 5 6 9]\n",
      "[9 4 5 1 6 3]\n"
     ]
    }
   ],
   "source": [
    "arr=np.array([1,3,4,5,6,9])\n",
    "print(arr)\n",
    "np.random.shuffle(arr)\n",
    "print(arr)\n"
   ]
  },
  {
   "cell_type": "code",
   "execution_count": 30,
   "metadata": {},
   "outputs": [
    {
     "name": "stdout",
     "output_type": "stream",
     "text": [
      "[1 3 1 4 2 6 5 6 9 7 7]\n",
      "[1 2 3 4 5 6 7 9]\n"
     ]
    }
   ],
   "source": [
    "arr=np.array([1,3,1,4,2,6,5,6,9,7,7])\n",
    "print(arr)\n",
    "print(np.unique(arr))"
   ]
  },
  {
   "cell_type": "code",
   "execution_count": 31,
   "metadata": {},
   "outputs": [
    {
     "name": "stdout",
     "output_type": "stream",
     "text": [
      "[1 3 1 4 2 6 5 6 9 7 7]\n",
      "[[1 3]\n",
      " [1 4]\n",
      " [2 6]]\n"
     ]
    }
   ],
   "source": [
    "arr=np.array([1,3,1,4,2,6,5,6,9,7,7])\n",
    "print(arr)\n",
    "print(np.resize(arr,(3,2)))"
   ]
  },
  {
   "cell_type": "code",
   "execution_count": 32,
   "metadata": {},
   "outputs": [
    {
     "name": "stdout",
     "output_type": "stream",
     "text": [
      "[[[1 3 4]\n",
      "  [5 6 7]]\n",
      "\n",
      " [[4 5 6]\n",
      "  [8 7 8]]]\n",
      "[1 3 4 5 6 7 4 5 6 8 7 8]\n"
     ]
    }
   ],
   "source": [
    "arr=np.array([[[1,3,4],[5,6,7]],[[4,5,6],[8,7,8]]])\n",
    "print(arr)\n",
    "print(np.ravel(arr))"
   ]
  },
  {
   "cell_type": "markdown",
   "metadata": {},
   "source": [
    "Inset & Delete"
   ]
  },
  {
   "cell_type": "code",
   "execution_count": 33,
   "metadata": {},
   "outputs": [
    {
     "name": "stdout",
     "output_type": "stream",
     "text": [
      "[10 20 30 40 50]\n",
      "[10 20 30 30 40 60 50]\n"
     ]
    }
   ],
   "source": [
    "arr=np.array([10,20,30,40,50])\n",
    "print(arr)\n",
    "print(np.insert(arr,[2,4],[30,60]))"
   ]
  },
  {
   "cell_type": "code",
   "execution_count": 34,
   "metadata": {},
   "outputs": [
    {
     "name": "stdout",
     "output_type": "stream",
     "text": [
      "[10 20 30 40 50]\n",
      "[10 20 40]\n"
     ]
    }
   ],
   "source": [
    "arr=np.array([10,20,30,40,50])\n",
    "print(arr)\n",
    "print(np.delete(arr,[2,4]))"
   ]
  },
  {
   "cell_type": "markdown",
   "metadata": {},
   "source": [
    "Arithmatic Operataion\n"
   ]
  },
  {
   "cell_type": "code",
   "execution_count": 35,
   "metadata": {},
   "outputs": [
    {
     "name": "stdout",
     "output_type": "stream",
     "text": [
      "[ 3  6  9 12 14]\n",
      "[-1 -2 -3 -4 -4]\n",
      "[ 2  8 18 32 45]\n",
      "[0.5        0.5        0.5        0.5        0.55555556]\n",
      "[2 2 2 2 1]\n",
      "[      1      16     729   65536 1953125]\n"
     ]
    }
   ],
   "source": [
    "arr1=np.array([1,2,3,4,5])\n",
    "arr2=np.array([2,4,6,8,9])\n",
    "print(arr1+arr2)\n",
    "print(arr1-arr2)\n",
    "print(arr1*arr2)\n",
    "print(arr1/arr2)\n",
    "print(arr2//arr1)\n",
    "print(arr1**arr2)"
   ]
  },
  {
   "cell_type": "markdown",
   "metadata": {},
   "source": [
    "Matrics\n"
   ]
  },
  {
   "cell_type": "code",
   "execution_count": 36,
   "metadata": {},
   "outputs": [
    {
     "name": "stdout",
     "output_type": "stream",
     "text": [
      "[[25 41]\n",
      " [50 82]]\n",
      "<class 'numpy.matrix'>\n"
     ]
    }
   ],
   "source": [
    "mat1=np.matrix([[2,3],[4,6]])\n",
    "mat2=np.matrix([[2,7],[7,9]])\n",
    "print(np.dot(mat1,mat2))\n",
    "print(type(mat1))\n"
   ]
  },
  {
   "cell_type": "code",
   "execution_count": 37,
   "metadata": {},
   "outputs": [
    {
     "name": "stdout",
     "output_type": "stream",
     "text": [
      "[[2 3 7]\n",
      " [4 6 9]\n",
      " [5 6 3]]\n",
      "using trasport\n",
      "[[2 4 5]\n",
      " [3 6 6]\n",
      " [7 9 3]]\n",
      "using T method\n",
      "[[2 4 5]\n",
      " [3 6 6]\n",
      " [7 9 3]]\n"
     ]
    }
   ],
   "source": [
    "mat1=np.matrix([[2,3,7],[4,6,9],[5,6,3]])\n",
    "print(mat1)\n",
    "print(\"using trasport\")\n",
    "print(np.transpose(mat1))\n",
    "print(\"using T method\")\n",
    "print(mat1.T)\n"
   ]
  },
  {
   "cell_type": "code",
   "execution_count": 38,
   "metadata": {},
   "outputs": [
    {
     "name": "stdout",
     "output_type": "stream",
     "text": [
      "[[2 6 3]]\n",
      "[[11]]\n"
     ]
    }
   ],
   "source": [
    "mat1=np.matrix([[2,3,7],[4,6,9],[5,6,3]])\n",
    "print(mat1.diagonal())\n",
    "print(mat1.trace())"
   ]
  },
  {
   "cell_type": "code",
   "execution_count": 39,
   "metadata": {},
   "outputs": [
    {
     "name": "stdout",
     "output_type": "stream",
     "text": [
      "-14.999999999999993\n",
      "3\n",
      "[[ 2.4        -2.2         1.        ]\n",
      " [-2.2         1.93333333 -0.66666667]\n",
      " [ 0.4        -0.2         0.        ]]\n",
      "[[ 2.40000000e+00 -2.20000000e+00  1.00000000e+00]\n",
      " [-2.20000000e+00  1.93333333e+00 -6.66666667e-01]\n",
      " [ 4.00000000e-01 -2.00000000e-01 -6.89479182e-16]]\n"
     ]
    }
   ],
   "source": [
    "#Determinate\n",
    "mat1=np.matrix([[2,3,7],[4,6,9],[5,6,3]])\n",
    "print(np.linalg.det(mat1))\n",
    "print(np.linalg.matrix_rank(mat1))\n",
    "print(np.linalg.inv(mat1))\n",
    "print(np.linalg.pinv(mat1))"
   ]
  },
  {
   "cell_type": "code",
   "execution_count": 40,
   "metadata": {},
   "outputs": [],
   "source": [
    "import numpy \n",
    "import random"
   ]
  },
  {
   "cell_type": "code",
   "execution_count": 41,
   "metadata": {},
   "outputs": [
    {
     "name": "stdout",
     "output_type": "stream",
     "text": [
      "24\n"
     ]
    }
   ],
   "source": [
    "from numpy import random\n",
    "\n",
    "x = random.randint(100)\n",
    "\n",
    "print(x)\n"
   ]
  },
  {
   "cell_type": "code",
   "execution_count": 42,
   "metadata": {},
   "outputs": [
    {
     "name": "stdout",
     "output_type": "stream",
     "text": [
      "0.7778221823637164\n"
     ]
    }
   ],
   "source": [
    "from numpy import random\n",
    "\n",
    "x = random.rand()\n",
    "\n",
    "print(x)"
   ]
  },
  {
   "cell_type": "code",
   "execution_count": null,
   "metadata": {},
   "outputs": [
    {
     "name": "stdout",
     "output_type": "stream",
     "text": [
      "[2, 4, 6]\n"
     ]
    }
   ],
   "source": [
    "num = [1,2,3]\n",
    "y = [num*2 for num in x]\n",
    "print(y)"
   ]
  },
  {
   "cell_type": "code",
   "execution_count": null,
   "metadata": {},
   "outputs": [],
   "source": []
  }
 ],
 "metadata": {
  "kernelspec": {
   "display_name": "Python 3",
   "language": "python",
   "name": "python3"
  },
  "language_info": {
   "codemirror_mode": {
    "name": "ipython",
    "version": 3
   },
   "file_extension": ".py",
   "mimetype": "text/x-python",
   "name": "python",
   "nbconvert_exporter": "python",
   "pygments_lexer": "ipython3",
   "version": "3.13.0"
  }
 },
 "nbformat": 4,
 "nbformat_minor": 4
}
